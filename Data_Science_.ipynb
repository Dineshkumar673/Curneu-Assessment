{
  "nbformat": 4,
  "nbformat_minor": 0,
  "metadata": {
    "kernelspec": {
      "language": "python",
      "display_name": "Python 3",
      "name": "python3"
    },
    "language_info": {
      "name": "python",
      "version": "3.6.6",
      "mimetype": "text/x-python",
      "codemirror_mode": {
        "name": "ipython",
        "version": 3
      },
      "pygments_lexer": "ipython3",
      "nbconvert_exporter": "python",
      "file_extension": ".py"
    },
    "colab": {
      "name": "Data_Science_.ipynb",
      "provenance": [],
      "collapsed_sections": [],
      "include_colab_link": true
    }
  },
  "cells": [
    {
      "cell_type": "markdown",
      "metadata": {
        "id": "view-in-github",
        "colab_type": "text"
      },
      "source": [
        "<a href=\"https://colab.research.google.com/github/Dineshkumar673/Curneu-Assessment/blob/main/Data_Science_.ipynb\" target=\"_parent\"><img src=\"https://colab.research.google.com/assets/colab-badge.svg\" alt=\"Open In Colab\"/></a>"
      ]
    },
    {
      "cell_type": "code",
      "metadata": {
        "_uuid": "8f2839f25d086af736a60e9eeb907d3b93b6e0e5",
        "_cell_guid": "b1076dfc-b9ad-4769-8c92-a6c4dae69d19",
        "trusted": true,
        "colab": {
          "base_uri": "https://localhost:8080/",
          "height": 363
        },
        "id": "-YE-8Bj2NVGZ",
        "outputId": "4e3d4d21-88d6-48c0-ef34-fdd99c10b9c0"
      },
      "source": [
        "from __future__ import division\n",
        "import numpy as np # linear algebra\n",
        "import pandas as pd # data processing, CSV file I/O (e.g. pd.read_csv)\n",
        "\n",
        "import os\n",
        "for dirname, _, filenames in os.walk('/kaggle/input'):\n",
        "    for filename in filenames:\n",
        "        print(os.path.join(dirname, filename))\n",
        "\n",
        "import seaborn as sns\n",
        "import matplotlib.pyplot as plt\n",
        "%matplotlib inline\n",
        "\n",
        "import warnings\n",
        "warnings.filterwarnings('ignore')\n",
        "import geopandas as gpd\n",
        "\n",
        "from sklearn import preprocessing\n",
        "from sklearn.linear_model import LinearRegression\n",
        "from sklearn.model_selection import train_test_split\n",
        "from sklearn import metrics\n",
        "\n",
        "sns.set_style('darkgrid')"
      ],
      "execution_count": null,
      "outputs": [
        {
          "output_type": "error",
          "ename": "ModuleNotFoundError",
          "evalue": "ignored",
          "traceback": [
            "\u001b[0;31m---------------------------------------------------------------------------\u001b[0m",
            "\u001b[0;31mModuleNotFoundError\u001b[0m                       Traceback (most recent call last)",
            "\u001b[0;32m<ipython-input-1-bd306848a60e>\u001b[0m in \u001b[0;36m<module>\u001b[0;34m()\u001b[0m\n\u001b[1;32m     14\u001b[0m \u001b[0;32mimport\u001b[0m \u001b[0mwarnings\u001b[0m\u001b[0;34m\u001b[0m\u001b[0;34m\u001b[0m\u001b[0m\n\u001b[1;32m     15\u001b[0m \u001b[0mwarnings\u001b[0m\u001b[0;34m.\u001b[0m\u001b[0mfilterwarnings\u001b[0m\u001b[0;34m(\u001b[0m\u001b[0;34m'ignore'\u001b[0m\u001b[0;34m)\u001b[0m\u001b[0;34m\u001b[0m\u001b[0;34m\u001b[0m\u001b[0m\n\u001b[0;32m---> 16\u001b[0;31m \u001b[0;32mimport\u001b[0m \u001b[0mgeopandas\u001b[0m \u001b[0;32mas\u001b[0m \u001b[0mgpd\u001b[0m\u001b[0;34m\u001b[0m\u001b[0;34m\u001b[0m\u001b[0m\n\u001b[0m\u001b[1;32m     17\u001b[0m \u001b[0;34m\u001b[0m\u001b[0m\n\u001b[1;32m     18\u001b[0m \u001b[0;32mfrom\u001b[0m \u001b[0msklearn\u001b[0m \u001b[0;32mimport\u001b[0m \u001b[0mpreprocessing\u001b[0m\u001b[0;34m\u001b[0m\u001b[0;34m\u001b[0m\u001b[0m\n",
            "\u001b[0;31mModuleNotFoundError\u001b[0m: No module named 'geopandas'",
            "",
            "\u001b[0;31m---------------------------------------------------------------------------\u001b[0;32m\nNOTE: If your import is failing due to a missing package, you can\nmanually install dependencies using either !pip or !apt.\n\nTo view examples of installing some common dependencies, click the\n\"Open Examples\" button below.\n\u001b[0;31m---------------------------------------------------------------------------\u001b[0m\n"
          ]
        }
      ]
    },
    {
      "cell_type": "markdown",
      "metadata": {
        "id": "Cbegh8qMNVGd"
      },
      "source": [
        "1. Preparing data"
      ]
    },
    {
      "cell_type": "code",
      "metadata": {
        "_uuid": "d629ff2d2480ee46fbb7e2d37f6b5fab8052498a",
        "_cell_guid": "79c7e3d0-c299-4dcb-8224-4455121ee9b0",
        "trusted": true,
        "id": "WZLzpn4iNVGe"
      },
      "source": [
        "data = pd.read_csv('../input/new-york-city-airbnb-open-data/AB_NYC_2019.csv')\n",
        "\n",
        "print('Number of features: %s' %data.shape[1])\n",
        "print('Number of examples: %s' %data.shape[0])"
      ],
      "execution_count": null,
      "outputs": []
    },
    {
      "cell_type": "code",
      "metadata": {
        "trusted": true,
        "id": "ObhfACAUNVGf"
      },
      "source": [
        "data.head()"
      ],
      "execution_count": null,
      "outputs": []
    },
    {
      "cell_type": "code",
      "metadata": {
        "trusted": true,
        "id": "CKF74uRiNVGf"
      },
      "source": [
        "# I want to describe only columns which contain numerical values\n",
        "\n",
        "data.drop(['id', 'name', 'host_id', 'host_name', 'neighbourhood_group', 'neighbourhood', 'room_type', 'last_review'], axis=1).describe()"
      ],
      "execution_count": null,
      "outputs": []
    },
    {
      "cell_type": "code",
      "metadata": {
        "trusted": true,
        "id": "iY4mg_KKNVGg"
      },
      "source": [
        "# Printing unique values for string columns\n",
        "\n",
        "for col in data[['neighbourhood_group', 'neighbourhood', 'room_type']]:\n",
        "    print('Unique values in column: %s' %col)\n",
        "    print(data[col].unique()), '\\n'"
      ],
      "execution_count": null,
      "outputs": []
    },
    {
      "cell_type": "markdown",
      "metadata": {
        "id": "J3EC-C1yNVGg"
      },
      "source": [
        "2. Null values"
      ]
    },
    {
      "cell_type": "code",
      "metadata": {
        "trusted": true,
        "id": "jhW-7oN-NVGh"
      },
      "source": [
        "print('Null values in Airbnb dataset: \\n')\n",
        "print(data.isnull().sum())\n",
        "print('\\n')\n",
        "print('Percentage of null values in review columns: ')\n",
        "print(round(data['last_review'].isnull().sum()/len(data)*100, 2),\"%\")\n",
        "\n",
        "# For reviews there are many null values so i want to also see percentage to the whole dataset\n",
        "# Null values in name, host_name, last_review, reviews_per_month, which for reviews is the same amount. \n",
        "# I want to see if it is for the same rows\n",
        "# I want to see also how null values for name and host_name are distributed because these amounts are different"
      ],
      "execution_count": null,
      "outputs": []
    },
    {
      "cell_type": "code",
      "metadata": {
        "trusted": true,
        "id": "vAQaIwVGNVGh"
      },
      "source": [
        "fig, ax = plt.subplots(figsize=(17,6))\n",
        "plt.title('Null values in last_review and reviews_per_month', fontsize=15)\n",
        "sns.heatmap(data[['last_review','reviews_per_month' ]].isnull(), cmap=\"Blues\", yticklabels=False, ax=ax, cbar_kws={'ticks': [0, 1]})"
      ],
      "execution_count": null,
      "outputs": []
    },
    {
      "cell_type": "code",
      "metadata": {
        "trusted": true,
        "id": "gZFRNllwNVGi"
      },
      "source": [
        "null_name = (pd.DataFrame(np.where((data['name'].isnull())))).transpose()\n",
        "null_host_name = (pd.DataFrame(np.where((data['host_name'].isnull())))).transpose()\n",
        "\n",
        "sum_null = pd.concat([null_name,null_host_name], axis=1, ignore_index=True)\n",
        "sum_null.columns = ['Null rows in name', 'Null rows in host_name']\n",
        "sum_null\n",
        "\n",
        "# Null values in name and host_name columns are accidental"
      ],
      "execution_count": null,
      "outputs": []
    },
    {
      "cell_type": "code",
      "metadata": {
        "trusted": true,
        "id": "2o_p-cgiNVGi"
      },
      "source": [
        "# last_review column may be dropped\n",
        "\n",
        "data.drop('last_review', axis=1, inplace=True)"
      ],
      "execution_count": null,
      "outputs": []
    },
    {
      "cell_type": "code",
      "metadata": {
        "trusted": true,
        "id": "8Vo1zxcMNVGl"
      },
      "source": [
        "# Null values for name and host_name I replace with 0. Also reviews_per_month I replace with 0\n",
        "\n",
        "data['name'].fillna(value=0, inplace=True)"
      ],
      "execution_count": null,
      "outputs": []
    },
    {
      "cell_type": "code",
      "metadata": {
        "trusted": true,
        "id": "MhcIortZNVGm"
      },
      "source": [
        "data['host_name'].fillna(value=0, inplace=True)"
      ],
      "execution_count": null,
      "outputs": []
    },
    {
      "cell_type": "code",
      "metadata": {
        "trusted": true,
        "id": "hnbid8eQNVGm"
      },
      "source": [
        "data['reviews_per_month'].fillna(value=0, inplace=True)"
      ],
      "execution_count": null,
      "outputs": []
    },
    {
      "cell_type": "code",
      "metadata": {
        "trusted": true,
        "id": "lzSxOte4NVGm"
      },
      "source": [
        "data.isnull().sum()"
      ],
      "execution_count": null,
      "outputs": []
    },
    {
      "cell_type": "code",
      "metadata": {
        "trusted": true,
        "id": "UOM_FV1wNVGn"
      },
      "source": [
        "data.head()"
      ],
      "execution_count": null,
      "outputs": []
    },
    {
      "cell_type": "markdown",
      "metadata": {
        "id": "mpqQf5vyNVGn"
      },
      "source": [
        "3. Evaluations"
      ]
    },
    {
      "cell_type": "code",
      "metadata": {
        "trusted": true,
        "id": "7FVtGEGDNVGn"
      },
      "source": [
        "# Evaluation 1 - top 3 hosts; hosts with the biggest amount of listings\n",
        "\n",
        "top_3_hosts = (pd.DataFrame(data.host_id.value_counts())).head(3)\n",
        "top_3_hosts.columns=['Listings']\n",
        "top_3_hosts['host_id'] = top_3_hosts.index\n",
        "top_3_hosts.reset_index(drop=True, inplace=True)\n",
        "top_3_hosts"
      ],
      "execution_count": null,
      "outputs": []
    },
    {
      "cell_type": "code",
      "metadata": {
        "trusted": true,
        "id": "_arosYCZNVGo"
      },
      "source": [
        "# Evaluation 2 - top 3 the hottest neighbourhoood groups\n",
        "\n",
        "top_3_neigh = pd.DataFrame(data['neighbourhood_group'].value_counts().head(3))\n",
        "top_3_neigh.columns=['Listings']\n",
        "top_3_neigh['Neighbourhood Group'] = top_3_neigh.index\n",
        "top_3_neigh.reset_index(drop=True, inplace=True)\n",
        "top_3_neigh"
      ],
      "execution_count": null,
      "outputs": []
    },
    {
      "cell_type": "code",
      "metadata": {
        "trusted": true,
        "id": "0_CsqvjANVGo"
      },
      "source": [
        "# Evaluation 3 - average price, availability in year \n",
        "\n",
        "average_price_ava = pd.DataFrame(data[['price', 'availability_365']].describe())\n",
        "average_price_ava.columns=['Price', 'Availability in a year']\n",
        "average_price_ava"
      ],
      "execution_count": null,
      "outputs": []
    },
    {
      "cell_type": "code",
      "metadata": {
        "trusted": true,
        "id": "K03WfGsMNVGo"
      },
      "source": [
        "# Evaluation 4 - most reviewed hosts\n",
        "\n",
        "rev_group = pd.DataFrame(data.groupby('number_of_reviews').sum()['host_id'])\n",
        "most_reviewed = (rev_group.sort_values('number_of_reviews',ascending=False)).head(3)\n",
        "most_reviewed.columns = ['Host ID']\n",
        "most_reviewed['Number of reviews'] = most_reviewed.index\n",
        "most_reviewed.reset_index(drop=True, inplace=True)\n",
        "most_reviewed"
      ],
      "execution_count": null,
      "outputs": []
    },
    {
      "cell_type": "code",
      "metadata": {
        "trusted": true,
        "id": "fdbTNDHYNVGp"
      },
      "source": [
        "# Evaluation 5 - the most reviewed hosts per month\n",
        "\n",
        "gr = pd.DataFrame(data.groupby('reviews_per_month').sum()['host_id'])\n",
        "rev = (gr.sort_values('reviews_per_month',ascending=False)).head(3)\n",
        "rev.columns = ['Host ID']\n",
        "rev['Reviews per month'] = rev.index\n",
        "rev.reset_index(drop=True, inplace=True)\n",
        "rev"
      ],
      "execution_count": null,
      "outputs": []
    },
    {
      "cell_type": "code",
      "metadata": {
        "trusted": true,
        "id": "xk4N36ErNVGp"
      },
      "source": [
        "\n",
        "# Evaluation 6 - prices in every neighbourhood group\n",
        "\n",
        "# Brooklyn\n",
        "nei1 = data.loc[data['neighbourhood_group'] == 'Brooklyn']\n",
        "price_nei1 = nei1[['price']]\n",
        "# Manhattan\n",
        "nei2 = data.loc[data['neighbourhood_group'] == 'Manhattan']\n",
        "price_nei2 = nei2[['price']]\n",
        "# Queens\n",
        "nei3 = data.loc[data['neighbourhood_group'] == 'Queens']\n",
        "price_nei3 = nei3[['price']]\n",
        "# Staten Island\n",
        "nei4 = data.loc[data['neighbourhood_group'] == 'Staten Island']\n",
        "price_nei4 = nei4[['price']]\n",
        "# Bronx\n",
        "nei5 = data.loc[data['neighbourhood_group'] == 'Bronx']\n",
        "price_nei5 = nei5[['price']]\n",
        "\n",
        "price_list = [price_nei1, price_nei2, price_nei3, price_nei4, price_nei5]\n",
        "\n",
        "\n",
        "\n",
        "price_stats = []\n",
        "nei_list = ['Brooklyn', 'Manhattan', 'Queens', 'Staten Island', 'Bronx']\n",
        "\n",
        "# price statistics for every neighbourhood\n",
        "\n",
        "for x in price_list:\n",
        "    i = x.describe(percentiles=[.25, .5, .75])\n",
        "    i = i.iloc[3:]\n",
        "    i.reset_index(inplace=True)\n",
        "    i.rename(columns={'index': 'Stats'}, inplace=True)\n",
        "    price_stats.append(i)\n",
        "\n",
        "price_stats[0].rename(columns={'price': nei_list[0]}, inplace=True)\n",
        "price_stats[1].rename(columns={'price': nei_list[1]}, inplace=True)\n",
        "price_stats[2].rename(columns={'price': nei_list[2]}, inplace=True)\n",
        "price_stats[3].rename(columns={'price': nei_list[3]}, inplace=True)\n",
        "price_stats[4].rename(columns={'price': nei_list[4]}, inplace=True)\n",
        "\n",
        "# final view of dataframe\n",
        "\n",
        "stats_df = price_stats\n",
        "stats_df = [df.set_index('Stats') for df in stats_df]\n",
        "stats_df=stats_df[0].join(stats_df[1:])\n",
        "stats_df"
      ],
      "execution_count": null,
      "outputs": []
    },
    {
      "cell_type": "markdown",
      "metadata": {
        "id": "GhmhusJSNVGq"
      },
      "source": [
        "4. Visualisations"
      ]
    },
    {
      "cell_type": "code",
      "metadata": {
        "trusted": true,
        "id": "tmucxrafNVGr"
      },
      "source": [
        "# Visualisation 1 - Neighbourhood groups with counts with category room_type\n",
        "\n",
        "plt.figure(figsize=(15,6))\n",
        "sns.countplot(data=data, x='neighbourhood_group', hue='room_type', palette='GnBu_d')\n",
        "plt.title('Counts of airbnb in neighbourhoods with room type category', fontsize=15)\n",
        "plt.xlabel('Neighbourhood group')\n",
        "plt.ylabel(\"Count\")\n",
        "plt.legend(frameon=False, fontsize=12)"
      ],
      "execution_count": null,
      "outputs": []
    },
    {
      "cell_type": "code",
      "metadata": {
        "trusted": true,
        "id": "iQ1BW3YhNVGr"
      },
      "source": [
        "# Visualisation 2 - distribution of prices\n",
        "\n",
        "plt.figure(figsize=(15,6))\n",
        "sns.violinplot(data=data[data.price <500], x='neighbourhood_group', y='price', palette='GnBu_d')\n",
        "plt.title('Density and distribution of prices for each neighbourhood group', fontsize=15)\n",
        "plt.xlabel('Neighbourhood group')\n",
        "plt.ylabel(\"Price\")"
      ],
      "execution_count": null,
      "outputs": []
    },
    {
      "cell_type": "code",
      "metadata": {
        "trusted": true,
        "id": "2doXTH8kNVGs"
      },
      "source": [
        "# Visualisation 3 - top neighbourhoods with category of room type\n",
        "\n",
        "top_nei = data['neighbourhood'].value_counts().reset_index().head(10)\n",
        "top_nei = top_nei['index'].tolist()\n",
        "\n",
        "plt.figure(figsize=(15,6))\n",
        "vis_3 = sns.catplot(x='neighbourhood', hue='neighbourhood_group', col='room_type', data=data.loc[data['neighbourhood'].isin(top_nei)], kind='count', palette='GnBu_d')\n",
        "vis_3.set_xticklabels(rotation=90)"
      ],
      "execution_count": null,
      "outputs": []
    },
    {
      "cell_type": "code",
      "metadata": {
        "trusted": true,
        "id": "8-joTTl4NVGt"
      },
      "source": [
        "# Visualisation 4 - room types\n",
        "\n",
        "plt.figure(figsize=(15,6))\n",
        "sns.countplot(data=data, x='room_type', palette='GnBu_d')\n",
        "plt.title('Counts for room types', fontsize=15)\n",
        "plt.xlabel('Room types')\n",
        "plt.ylabel(\"Count\")"
      ],
      "execution_count": null,
      "outputs": []
    },
    {
      "cell_type": "code",
      "metadata": {
        "trusted": true,
        "id": "Zz7X7R8gNVGt"
      },
      "source": [
        "# Visualisation 5 - availability in year\n",
        "\n",
        "plt.figure(figsize=(15,6))\n",
        "sns.distplot(data.availability_365, kde=False)\n",
        "plt.xlim(0,365)\n",
        "plt.title('Availability in year', fontsize=15)\n",
        "plt.xlabel('Availibility')\n",
        "plt.ylabel(\"Frequency\")"
      ],
      "execution_count": null,
      "outputs": []
    },
    {
      "cell_type": "code",
      "metadata": {
        "trusted": true,
        "id": "TeDU5JFsNVGu"
      },
      "source": [
        "# Visualisation 6 - map of hosts\n",
        "\n",
        "plt.figure(figsize=(10,10))\n",
        "a = sns.scatterplot(data=data, x='longitude', y='latitude', hue='neighbourhood_group', palette='GnBu_d')\n",
        "plt.title('Map of airbnb', fontsize=15)\n",
        "plt.xlabel('Latitude')\n",
        "plt.ylabel(\"Longitude\")\n",
        "plt.legend(frameon=False, fontsize=13)"
      ],
      "execution_count": null,
      "outputs": []
    },
    {
      "cell_type": "code",
      "metadata": {
        "trusted": true,
        "id": "6n70EsEoNVGu"
      },
      "source": [
        "# Visualisation 7 - correlations between values\n",
        "\n",
        "plt.figure(figsize=(15,8))\n",
        "sns.heatmap(data.corr(), annot=True, linewidths=0.1, cmap='Reds')"
      ],
      "execution_count": null,
      "outputs": []
    },
    {
      "cell_type": "code",
      "metadata": {
        "trusted": true,
        "id": "TQpIShwFNVGu"
      },
      "source": [
        "# Visualisation 8 - prices in neighbourhoods \n",
        "\n",
        "data1 = pd.DataFrame(data.groupby(['neighbourhood_group', 'neighbourhood'])['price'].mean())\n",
        "data1.reset_index(inplace=True)\n",
        "\n",
        "bronx = (data1[data1['neighbourhood_group'] =='Bronx']).sort_values(by='price',ascending=False).head(10)\n",
        "brooklyn = (data1[data1['neighbourhood_group'] =='Brooklyn']).sort_values(by='price',ascending=False).head(10)\n",
        "manhattan = (data1[data1['neighbourhood_group'] =='Manhattan']).sort_values(by='price',ascending=False).head(10)\n",
        "queens = (data1[data1['neighbourhood_group'] =='Queens']).sort_values(by='price',ascending=False).head(10)\n",
        "staten = (data1[data1['neighbourhood_group'] =='Staten Island']).sort_values(by='price',ascending=False).head(10)\n",
        "\n",
        "neighs = [bronx, brooklyn, manhattan, queens, staten]\n",
        "titles = ['Bronx', 'Brooklyn', 'Manhattan', 'Queens', 'Staten Island']"
      ],
      "execution_count": null,
      "outputs": []
    },
    {
      "cell_type": "code",
      "metadata": {
        "trusted": true,
        "id": "AtbJJEaYNVGv"
      },
      "source": [
        "fig, axs = plt.subplots(5, figsize=(15, 15), gridspec_kw={'hspace': 0.5, 'wspace': 0})\n",
        "sns.scatterplot(data=bronx, x='neighbourhood', y='price', ax=axs[0], color='red', s=100)\n",
        "sns.scatterplot(data=brooklyn, x='neighbourhood', y='price', ax=axs[1], color='blue', s=100)\n",
        "sns.scatterplot(data=manhattan, x='neighbourhood', y='price', ax=axs[2], color='black', s=100)\n",
        "sns.scatterplot(data=queens, x='neighbourhood', y='price', ax=axs[3], color='green', s=100)\n",
        "sns.scatterplot(data=staten, x='neighbourhood', y='price', ax=axs[4], color='purple', s=100)\n",
        "\n",
        "axs[0].set_title('Bronx')\n",
        "axs[1].set_title('Brooklyn')\n",
        "axs[2].set_title('Manhattan')\n",
        "axs[3].set_title('Queens')\n",
        "axs[4].set_title('Staten Island')\n",
        "\n",
        "for ax in axs:\n",
        "    ax.set(xlabel='Neighbourhood', ylabel='Price')\n",
        "    ax.label_outer()"
      ],
      "execution_count": null,
      "outputs": []
    },
    {
      "cell_type": "markdown",
      "metadata": {
        "id": "q6FC8nGrNVGv"
      },
      "source": [
        "5. Predictions"
      ]
    },
    {
      "cell_type": "code",
      "metadata": {
        "trusted": true,
        "id": "-VAkyJMENVGv"
      },
      "source": [
        "# Preparing dataset for predictions\n",
        "\n",
        "data_pred = pd.read_csv('../input/new-york-city-airbnb-open-data/AB_NYC_2019.csv')"
      ],
      "execution_count": null,
      "outputs": []
    },
    {
      "cell_type": "code",
      "metadata": {
        "trusted": true,
        "id": "iDf4iZQQNVGw"
      },
      "source": [
        "data_pred.head()"
      ],
      "execution_count": null,
      "outputs": []
    },
    {
      "cell_type": "code",
      "metadata": {
        "trusted": true,
        "id": "gJsCABeUNVGw"
      },
      "source": [
        "data_pred.drop(['name', 'host_name', 'last_review', 'id'], inplace=True, axis=1)"
      ],
      "execution_count": null,
      "outputs": []
    },
    {
      "cell_type": "code",
      "metadata": {
        "trusted": true,
        "id": "bfT9F0xqNVGw"
      },
      "source": [
        "data_pred['reviews_per_month'] = data_pred['reviews_per_month'].fillna(value=0, inplace=False)"
      ],
      "execution_count": null,
      "outputs": []
    },
    {
      "cell_type": "code",
      "metadata": {
        "trusted": true,
        "id": "XcV4_tzBNVGx"
      },
      "source": [
        "data_pred.head()"
      ],
      "execution_count": null,
      "outputs": []
    },
    {
      "cell_type": "code",
      "metadata": {
        "trusted": true,
        "id": "pNE-idgDNVGx"
      },
      "source": [
        "le = preprocessing.LabelEncoder()\n",
        "\n",
        "le.fit(data_pred['neighbourhood_group'])\n",
        "data_pred['neighbourhood_group']=le.transform(data_pred['neighbourhood_group'])\n",
        "\n",
        "le.fit(data_pred['neighbourhood'])\n",
        "data_pred['neighbourhood']=le.transform(data_pred['neighbourhood'])\n",
        "\n",
        "le.fit(data_pred['room_type'])\n",
        "data_pred['room_type']=le.transform(data_pred['room_type'])"
      ],
      "execution_count": null,
      "outputs": []
    },
    {
      "cell_type": "code",
      "metadata": {
        "trusted": true,
        "id": "5x7l9n_FNVGx"
      },
      "source": [
        "data_pred.sort_values('price', ascending=True, inplace=True)"
      ],
      "execution_count": null,
      "outputs": []
    },
    {
      "cell_type": "code",
      "metadata": {
        "trusted": true,
        "id": "sLayZhCCNVGx"
      },
      "source": [
        "data_pred = data_pred[11:-6]"
      ],
      "execution_count": null,
      "outputs": []
    },
    {
      "cell_type": "code",
      "metadata": {
        "trusted": true,
        "id": "Zk2nrw8eNVGy"
      },
      "source": [
        "lm = LinearRegression()"
      ],
      "execution_count": null,
      "outputs": []
    },
    {
      "cell_type": "code",
      "metadata": {
        "trusted": true,
        "id": "Q33G_aXNNVGy"
      },
      "source": [
        "X = data_pred.drop(['price', 'longitude'], inplace=False, axis=1)\n",
        "y = data_pred['price']\n",
        "\n",
        "X_train, X_test, y_train, y_test = train_test_split(X, y, test_size=0.2, random_state=101)\n",
        "\n",
        "lm.fit(X_train, y_train)"
      ],
      "execution_count": null,
      "outputs": []
    },
    {
      "cell_type": "code",
      "metadata": {
        "trusted": true,
        "id": "oyrAPE_KNVGy"
      },
      "source": [
        "predictions = lm.predict(X_test)"
      ],
      "execution_count": null,
      "outputs": []
    },
    {
      "cell_type": "code",
      "metadata": {
        "trusted": true,
        "id": "dJe13ZPGNVGz"
      },
      "source": [
        "# Evaluated metrics\n",
        "\n",
        "mae = metrics.mean_absolute_error(y_test, predictions)\n",
        "mse = metrics.mean_squared_error(y_test, predictions)\n",
        "rmse = np.sqrt(metrics.mean_squared_error(y_test, predictions))\n",
        "r2 = metrics.r2_score(y_test, predictions)\n",
        "\n",
        "print('MAE (Mean Absolute Error): %s' %mae)\n",
        "print('MSE (Mean Squared Error): %s' %mse)\n",
        "print('RMSE (Root mean squared error): %s' %rmse)\n",
        "print('R2 score: %s' %r2)"
      ],
      "execution_count": null,
      "outputs": []
    },
    {
      "cell_type": "code",
      "metadata": {
        "trusted": true,
        "id": "DbuojMfyNVGz"
      },
      "source": [
        "# Avtual vs predicted values\n",
        "\n",
        "error = pd.DataFrame({'Actual Values': np.array(y_test).flatten(), 'Predicted Values': predictions.flatten()})\n",
        "error.head(10)"
      ],
      "execution_count": null,
      "outputs": []
    },
    {
      "cell_type": "code",
      "metadata": {
        "trusted": true,
        "id": "zcACS1F4NVGz"
      },
      "source": [
        "# Evaluated predictions\n",
        "\n",
        "plt.figure(figsize=(15,7))\n",
        "plt.xlim(-10,350)\n",
        "sns.regplot(y=y_test, x=predictions, color='blue')\n",
        "plt.title('Evaluated predictions', fontsize=15)\n",
        "plt.xlabel('Predictions')\n",
        "plt.ylabel('Test')"
      ],
      "execution_count": null,
      "outputs": []
    }
  ]
}